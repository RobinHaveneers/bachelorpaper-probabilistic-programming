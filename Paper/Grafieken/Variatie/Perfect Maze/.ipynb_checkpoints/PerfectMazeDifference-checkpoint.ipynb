{
 "cells": [
  {
   "cell_type": "code",
   "execution_count": 1,
   "metadata": {
    "collapsed": true
   },
   "outputs": [],
   "source": [
    "# the first line tells Jupyter to place the figures directly in the notebook\n",
    "%matplotlib inline    \n",
    "import matplotlib\n",
    "import numpy as np\n",
    "from numpy import genfromtxt\n",
    "import matplotlib.pyplot as plt"
   ]
  },
  {
   "cell_type": "code",
   "execution_count": 11,
   "metadata": {
    "collapsed": false
   },
   "outputs": [],
   "source": [
    "y1 = genfromtxt('prob-pm-3.csv', delimiter=',')\n",
    "y1.sort()\n",
    "\n",
    "y2 = genfromtxt('prob-pm-4.csv', delimiter=',')\n",
    "y2.sort()\n",
    "#y2 = y2[:len(y2)-11]\n",
    "\n",
    "y3 = genfromtxt('ans-pm-3.csv', delimiter=',')\n",
    "y3.sort()\n",
    "#y3 = y3[:len(y3)-11]\n",
    "\n",
    "y4 = genfromtxt('ans-pm-4.csv', delimiter=',')\n",
    "y4.sort()\n",
    "#y4 = y4[:len(y4)-11]\n",
    "\n",
    "length = len(y4)\n",
    "x = np.array(range(length))"
   ]
  },
  {
   "cell_type": "code",
   "execution_count": 12,
   "metadata": {
    "collapsed": false
   },
   "outputs": [
    {
     "data": {
      "image/png": "[encoded data removed]",
      "text/plain": [
       "<matplotlib.figure.Figure at 0x10ff74b90>"
      ]
     },
     "metadata": {},
     "output_type": "display_data"
    }
   ],
   "source": [
    "fig = plt.figure(figsize=(7,5))\n",
    "\n",
    "ax = fig.add_subplot(111)\n",
    "ax.set_xlabel('Puzzels', fontsize=12)\n",
    "ax.set_ylabel('Variatiefactor', fontsize=12)\n",
    "ax.plot(x,y1,'-', color='0.6', label=\"ProbLog | Dimensie 3\")\n",
    "ax.plot(x,y2,'-.', color='0.6',label=\"ProbLog | Dimensie 4\")\n",
    "ax.plot(x,y3,'-', color='0',label=\"AnsProlog | Dimensie 3\")\n",
    "ax.plot(x,y4,'-.', color='0',label=\"AnsProlog | Dimensie 4\")\n",
    "#plt.xticks(np.arange(min(x), 210, 30))\n",
    "leg = ax.legend(loc=2,prop={'size':10},fancybox=True)\n",
    "leg.get_frame().set_alpha(0.5)\n",
    "plt.savefig('perfectmaze.pdf')"
   ]
  },
  {
   "cell_type": "code",
   "execution_count": null,
   "metadata": {
    "collapsed": true
   },
   "outputs": [],
   "source": []
  }
 ],
 "metadata": {
  "kernelspec": {
   "display_name": "Python 2",
   "language": "python",
   "name": "python2"
  },
  "language_info": {
   "codemirror_mode": {
    "name": "ipython",
    "version": 2
   },
   "file_extension": ".py",
   "mimetype": "text/x-python",
   "name": "python",
   "nbconvert_exporter": "python",
   "pygments_lexer": "ipython2",
   "version": "2.7.11"
  }
 },
 "nbformat": 4,
 "nbformat_minor": 0
}
